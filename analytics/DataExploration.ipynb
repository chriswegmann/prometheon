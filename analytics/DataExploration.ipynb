{
 "cells": [
  {
   "cell_type": "code",
   "execution_count": 100,
   "metadata": {},
   "outputs": [],
   "source": [
    "import pandas as pd\n",
    "import numpy as np\n",
    "import datetime\n",
    "import ipywidgets \n",
    "import matplotlib.pyplot as plt\n",
    "import time"
   ]
  },
  {
   "cell_type": "code",
   "execution_count": 26,
   "metadata": {},
   "outputs": [],
   "source": [
    "from ipywidgets import widgets\n",
    "from IPython import display"
   ]
  },
  {
   "cell_type": "code",
   "execution_count": 27,
   "metadata": {},
   "outputs": [],
   "source": [
    "data_dir = r\"./transport/\""
   ]
  },
  {
   "cell_type": "code",
   "execution_count": 28,
   "metadata": {},
   "outputs": [],
   "source": [
    "transport = pd.read_pickle(data_dir + r\"transport.pkl\")\n",
    "temperatures = pd.read_pickle(data_dir + r\"temperatures.pkl\")"
   ]
  },
  {
   "cell_type": "code",
   "execution_count": 29,
   "metadata": {},
   "outputs": [
    {
     "data": {
      "text/html": [
       "<div>\n",
       "<style>\n",
       "    .dataframe thead tr:only-child th {\n",
       "        text-align: right;\n",
       "    }\n",
       "\n",
       "    .dataframe thead th {\n",
       "        text-align: left;\n",
       "    }\n",
       "\n",
       "    .dataframe tbody tr th {\n",
       "        vertical-align: top;\n",
       "    }\n",
       "</style>\n",
       "<table border=\"1\" class=\"dataframe\">\n",
       "  <thead>\n",
       "    <tr style=\"text-align: right;\">\n",
       "      <th></th>\n",
       "      <th>TransportID</th>\n",
       "      <th>Time_raw</th>\n",
       "      <th>TemperatureInternal</th>\n",
       "      <th>TemperatureExternal</th>\n",
       "      <th>Time</th>\n",
       "    </tr>\n",
       "  </thead>\n",
       "  <tbody>\n",
       "    <tr>\n",
       "      <th>48902</th>\n",
       "      <td>7886</td>\n",
       "      <td>Sat Sep 10 10:27:26 CEST 2016</td>\n",
       "      <td>5.2</td>\n",
       "      <td>3.9</td>\n",
       "      <td>2016-09-10 08:27:26</td>\n",
       "    </tr>\n",
       "    <tr>\n",
       "      <th>143191</th>\n",
       "      <td>8747</td>\n",
       "      <td>Fri Sep 15 10:21:55 CEST 2017</td>\n",
       "      <td>20.9</td>\n",
       "      <td>20.3</td>\n",
       "      <td>2017-09-15 08:21:55</td>\n",
       "    </tr>\n",
       "    <tr>\n",
       "      <th>179604</th>\n",
       "      <td>9102</td>\n",
       "      <td>Sun Dec 31 22:20:47 CET 2017</td>\n",
       "      <td>16.2</td>\n",
       "      <td>17.1</td>\n",
       "      <td>2017-12-31 21:20:47</td>\n",
       "    </tr>\n",
       "    <tr>\n",
       "      <th>113660</th>\n",
       "      <td>8512</td>\n",
       "      <td>Fri Jun 23 12:50:59 CEST 2017</td>\n",
       "      <td>5.3</td>\n",
       "      <td>3.7</td>\n",
       "      <td>2017-06-23 10:50:59</td>\n",
       "    </tr>\n",
       "    <tr>\n",
       "      <th>205578</th>\n",
       "      <td>9203</td>\n",
       "      <td>Sat Dec 23 00:15:27 CET 2017</td>\n",
       "      <td>17.3</td>\n",
       "      <td>22.7</td>\n",
       "      <td>2017-12-22 23:15:27</td>\n",
       "    </tr>\n",
       "    <tr>\n",
       "      <th>141871</th>\n",
       "      <td>8744</td>\n",
       "      <td>Wed Sep 13 19:54:14 CEST 2017</td>\n",
       "      <td>21.4</td>\n",
       "      <td>21.8</td>\n",
       "      <td>2017-09-13 17:54:14</td>\n",
       "    </tr>\n",
       "    <tr>\n",
       "      <th>64559</th>\n",
       "      <td>8246</td>\n",
       "      <td>Mon Jan 23 21:08:26 CET 2017</td>\n",
       "      <td>3.7</td>\n",
       "      <td>4.6</td>\n",
       "      <td>2017-01-23 20:08:26</td>\n",
       "    </tr>\n",
       "    <tr>\n",
       "      <th>178222</th>\n",
       "      <td>9101</td>\n",
       "      <td>Thu Dec 21 08:10:47 CET 2017</td>\n",
       "      <td>8.6</td>\n",
       "      <td>11.0</td>\n",
       "      <td>2017-12-21 07:10:47</td>\n",
       "    </tr>\n",
       "    <tr>\n",
       "      <th>184612</th>\n",
       "      <td>9113</td>\n",
       "      <td>Fri Dec 15 15:44:53 CET 2017</td>\n",
       "      <td>17.3</td>\n",
       "      <td>15.8</td>\n",
       "      <td>2017-12-15 14:44:53</td>\n",
       "    </tr>\n",
       "    <tr>\n",
       "      <th>79109</th>\n",
       "      <td>8307</td>\n",
       "      <td>Mon Feb 20 08:45:52 CET 2017</td>\n",
       "      <td>22.1</td>\n",
       "      <td>17.2</td>\n",
       "      <td>2017-02-20 07:45:52</td>\n",
       "    </tr>\n",
       "  </tbody>\n",
       "</table>\n",
       "</div>"
      ],
      "text/plain": [
       "        TransportID                       Time_raw  TemperatureInternal  \\\n",
       "48902          7886  Sat Sep 10 10:27:26 CEST 2016                  5.2   \n",
       "143191         8747  Fri Sep 15 10:21:55 CEST 2017                 20.9   \n",
       "179604         9102   Sun Dec 31 22:20:47 CET 2017                 16.2   \n",
       "113660         8512  Fri Jun 23 12:50:59 CEST 2017                  5.3   \n",
       "205578         9203   Sat Dec 23 00:15:27 CET 2017                 17.3   \n",
       "141871         8744  Wed Sep 13 19:54:14 CEST 2017                 21.4   \n",
       "64559          8246   Mon Jan 23 21:08:26 CET 2017                  3.7   \n",
       "178222         9101   Thu Dec 21 08:10:47 CET 2017                  8.6   \n",
       "184612         9113   Fri Dec 15 15:44:53 CET 2017                 17.3   \n",
       "79109          8307   Mon Feb 20 08:45:52 CET 2017                 22.1   \n",
       "\n",
       "        TemperatureExternal                Time  \n",
       "48902                   3.9 2016-09-10 08:27:26  \n",
       "143191                 20.3 2017-09-15 08:21:55  \n",
       "179604                 17.1 2017-12-31 21:20:47  \n",
       "113660                  3.7 2017-06-23 10:50:59  \n",
       "205578                 22.7 2017-12-22 23:15:27  \n",
       "141871                 21.8 2017-09-13 17:54:14  \n",
       "64559                   4.6 2017-01-23 20:08:26  \n",
       "178222                 11.0 2017-12-21 07:10:47  \n",
       "184612                 15.8 2017-12-15 14:44:53  \n",
       "79109                  17.2 2017-02-20 07:45:52  "
      ]
     },
     "execution_count": 29,
     "metadata": {},
     "output_type": "execute_result"
    }
   ],
   "source": [
    "temperatures.sample(10)"
   ]
  },
  {
   "cell_type": "code",
   "execution_count": 91,
   "metadata": {},
   "outputs": [],
   "source": [
    "?widgets.Dropdown"
   ]
  },
  {
   "cell_type": "code",
   "execution_count": 168,
   "metadata": {},
   "outputs": [],
   "source": [
    "# A lot to improve:\n",
    "# - create figure only once, replot the graph instead\n",
    "# - filling of missing time values: what is wrong here?\n",
    "# - Display of transport info in 2nd plot\n",
    "# - Time Format\n",
    "\n",
    "class TransportViewer(object):\n",
    "    def __init__(self):\n",
    "        ''' \n",
    "        \n",
    "        '''\n",
    "        more_than_0counts = temperatures.groupby('TransportID').count().Time >0\n",
    "        self.transport_ids = list(more_than_0counts[more_than_0counts].index)\n",
    "        \n",
    "    def launch(self):        \n",
    "        self._create_transport_select_widget()\n",
    "        # self._create_slicewidget()\n",
    "\n",
    "    def _create_transport_select_widget(self):\n",
    "        self._transportwgt=widgets.Dropdown(description='Transport ID',\n",
    "                                            options=self.transport_ids) \n",
    "        display.display(self._transportwgt)\n",
    "        self._transportwgt.observe(self.show_transport,\n",
    "                                            names='value') # NB! names='value'. Listen only to value       \n",
    "        \n",
    "#     def _create_slicewidget(self):\n",
    "#         max_val=self.img.shape[self.axis]\n",
    "#         self._slider=widgets.IntSlider(description='slice index', min=0,max=max_val-1)\n",
    "#         display.display(self._slider)\n",
    "#         self._slider.observe(self.show_slice)\n",
    "        \n",
    "    def show_transport(self, btn):\n",
    "        display.clear_output()\n",
    "        plt.close('all')\n",
    "        self.fig, self.axs = plt.subplots(1, 2, figsize=(12, 5))\n",
    "        self.transportid = int(self._transportwgt.value)\n",
    "\n",
    "        print(self.transportid)\n",
    "        #update the slicewidget max value\n",
    "        selected_idx = temperatures.loc[:, 'TransportID']==self.transportid\n",
    "        temps_tmp = temperatures.loc[selected_idx,:]\n",
    "        temps_tmp.loc[:, 'Time'] = temps_tmp.loc[:, 'Time'].fillna(method='bfill') \n",
    "        temps_tmp.loc[:, 'Time'] = temps_tmp.loc[:, 'Time'].fillna(method='ffill')\n",
    "        try:\n",
    "            \n",
    "            temps_tmp.plot(x='Time', y=['TemperatureInternal','TemperatureExternal'], ax=self.axs[0])\n",
    "            plt.show()     \n",
    "        except Exception as e:\n",
    "            print(e)\n",
    "            print('Something wrong')\n",
    "        # print(temps_tmp)\n",
    "        #plt.draw()"
   ]
  },
  {
   "cell_type": "code",
   "execution_count": 169,
   "metadata": {},
   "outputs": [
    {
     "name": "stdout",
     "output_type": "stream",
     "text": [
      "7213\n"
     ]
    },
    {
     "data": {
      "image/png": "[encoded data removed]",
      "text/plain": [
       "<matplotlib.figure.Figure at 0x7fc2f59b4198>"
      ]
     },
     "metadata": {},
     "output_type": "display_data"
    }
   ],
   "source": [
    "tp = TransportViewer()\n",
    "tp.launch()"
   ]
  },
  {
   "cell_type": "code",
   "execution_count": null,
   "metadata": {},
   "outputs": [],
   "source": []
  }
 ],
 "metadata": {
  "kernelspec": {
   "display_name": "Python 3",
   "language": "python",
   "name": "python3"
  },
  "language_info": {
   "codemirror_mode": {
    "name": "ipython",
    "version": 3
   },
   "file_extension": ".py",
   "mimetype": "text/x-python",
   "name": "python",
   "nbconvert_exporter": "python",
   "pygments_lexer": "ipython3",
   "version": "3.6.1"
  }
 },
 "nbformat": 4,
 "nbformat_minor": 2
}
